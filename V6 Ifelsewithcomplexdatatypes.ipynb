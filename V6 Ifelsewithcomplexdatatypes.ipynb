{
 "cells": [
  {
   "cell_type": "code",
   "execution_count": 5,
   "id": "70e281f0",
   "metadata": {},
   "outputs": [],
   "source": [
    "fruit_list = ['apple','orange','avocado','grape','banana']"
   ]
  },
  {
   "cell_type": "code",
   "execution_count": 6,
   "id": "f81c00ce",
   "metadata": {},
   "outputs": [
    {
     "name": "stdout",
     "output_type": "stream",
     "text": [
      "Yes, grape is in the fruit list\n"
     ]
    }
   ],
   "source": [
    "if 'grape' in fruit_list:\n",
    "    print(\"Yes, grape is in the fruit list\")\n",
    "    \n",
    "else:\n",
    "    print(\"Grape is not in the fruit list\")"
   ]
  },
  {
   "cell_type": "code",
   "execution_count": 3,
   "id": "70dbb809",
   "metadata": {},
   "outputs": [
    {
     "name": "stdout",
     "output_type": "stream",
     "text": [
      "Orange is in the fruit list\n"
     ]
    }
   ],
   "source": [
    "if 'strawberry' in fruit_list:\n",
    "    print(\"Strawberry is in the fruit list\")\n",
    "    \n",
    "elif 'orange' in fruit_list:\n",
    "    print(\"Orange is in the fruit list\")\n",
    "    \n",
    "else:\n",
    "    print('Both orange and strawberry is in the fruit list')"
   ]
  },
  {
   "cell_type": "code",
   "execution_count": 4,
   "id": "98d41d94",
   "metadata": {},
   "outputs": [
    {
     "name": "stdout",
     "output_type": "stream",
     "text": [
      "True\n"
     ]
    }
   ],
   "source": [
    "if fruit_list[1] == 'orange':\n",
    "    print(\"True\")\n",
    "    \n",
    "else:\n",
    "    print('False')  \n"
   ]
  },
  {
   "cell_type": "code",
   "execution_count": 5,
   "id": "654e32b7",
   "metadata": {},
   "outputs": [
    {
     "name": "stdout",
     "output_type": "stream",
     "text": [
      "Yes, banana is at the fourth index\n",
      "Replacing banana with strawberry at the fourth index\n",
      "['apple', 'orange', 'avocado', 'grape', 'strawberry']\n"
     ]
    }
   ],
   "source": [
    "if fruit_list[4] == \"banana\":\n",
    "    \n",
    "    print(\"Yes, banana is at the fourth index\")\n",
    "    print(\"Replacing banana with strawberry at the fourth index\")\n",
    "    \n",
    "    fruit_list[4] = \"strawberry\"\n",
    "    print(fruit_list)\n",
    "    \n",
    "else:\n",
    "    print('strawberry is not at the fourth list')"
   ]
  },
  {
   "cell_type": "code",
   "execution_count": 7,
   "id": "eec8aacc",
   "metadata": {},
   "outputs": [],
   "source": [
    "car_tuple = ('Honda City','Maruti Brezza','Hyundai Venue','Mahindra Thar')"
   ]
  },
  {
   "cell_type": "code",
   "execution_count": 7,
   "id": "8b0a2414",
   "metadata": {},
   "outputs": [
    {
     "name": "stdout",
     "output_type": "stream",
     "text": [
      "Honda City is present in our car tuple\n"
     ]
    }
   ],
   "source": [
    "if 'Honda City' in car_tuple:\n",
    "    print('Honda City is present in our car tuple')\n",
    "    \n",
    "else:\n",
    "    print('Honda city is not present in our car tuple')"
   ]
  },
  {
   "cell_type": "code",
   "execution_count": 8,
   "id": "f66007f7",
   "metadata": {},
   "outputs": [
    {
     "name": "stdout",
     "output_type": "stream",
     "text": [
      "Honda Activa is not a car\n"
     ]
    }
   ],
   "source": [
    "if \"Honda Activa\" in car_tuple:\n",
    "    print('Honda Activa is a car')\n",
    "    \n",
    "else:\n",
    "    print('Honda Activa is not a car')"
   ]
  },
  {
   "cell_type": "code",
   "execution_count": 9,
   "id": "7c645b15",
   "metadata": {},
   "outputs": [
    {
     "name": "stdout",
     "output_type": "stream",
     "text": [
      "At least one of Honda city and Honda Activa is not a car\n"
     ]
    }
   ],
   "source": [
    "if \"Honda city\" in car_tuple and \"Honda Activa\" in car_tuple:\n",
    "    print('Honda Activa and Honda city both are cars')\n",
    "    \n",
    "else:\n",
    "    print('At least one of Honda city and Honda Activa is not a car')"
   ]
  },
  {
   "cell_type": "code",
   "execution_count": 9,
   "id": "521b649a",
   "metadata": {},
   "outputs": [
    {
     "name": "stdout",
     "output_type": "stream",
     "text": [
      "At least one of Honda city and Honda Activa is a car\n"
     ]
    }
   ],
   "source": [
    "if \"Honda City\" in car_tuple or \"Honda Activa\" in car_tuple:\n",
    "    print('At least one of Honda city and Honda Activa is a car')\n",
    "    \n",
    "else:\n",
    "    print('Neither Honda city nor Honda Activa is a car')"
   ]
  },
  {
   "cell_type": "code",
   "execution_count": 11,
   "id": "9b1b97f9",
   "metadata": {},
   "outputs": [],
   "source": [
    "salary_details = {\"James\":50000,\n",
    "                 \"Rahul\":60000,\n",
    "                 \"Vineeta\":65000,\n",
    "                 \"Nitin\":70000}"
   ]
  },
  {
   "cell_type": "code",
   "execution_count": 12,
   "id": "f05dea04",
   "metadata": {},
   "outputs": [
    {
     "data": {
      "text/plain": [
       "{'James': 50000, 'Rahul': 60000, 'Vineeta': 65000, 'Nitin': 70000}"
      ]
     },
     "execution_count": 12,
     "metadata": {},
     "output_type": "execute_result"
    }
   ],
   "source": [
    "salary_details"
   ]
  },
  {
   "cell_type": "code",
   "execution_count": 13,
   "id": "49c67860",
   "metadata": {},
   "outputs": [
    {
     "name": "stdout",
     "output_type": "stream",
     "text": [
      "We have the salary details for Rahul\n"
     ]
    }
   ],
   "source": [
    "if \"Rahul\" in salary_details:\n",
    "    print(\"We have the salary details for Rahul\")\n",
    "    \n",
    "else:\n",
    "    print(\"We don't have the salary details for Rahul\")"
   ]
  },
  {
   "cell_type": "code",
   "execution_count": 14,
   "id": "352f3955",
   "metadata": {},
   "outputs": [
    {
     "name": "stdout",
     "output_type": "stream",
     "text": [
      "We don't have the salary details for Kapil\n"
     ]
    }
   ],
   "source": [
    "if \"Kapil\" in salary_details:\n",
    "    print(\"We have the salary details for Kapil\")\n",
    "    \n",
    "else:\n",
    "    print(\"We don't have the salary details for Kapil\")"
   ]
  },
  {
   "cell_type": "code",
   "execution_count": 15,
   "id": "7d329913",
   "metadata": {},
   "outputs": [
    {
     "name": "stdout",
     "output_type": "stream",
     "text": [
      "Kapil's monthly income is 90000\n"
     ]
    }
   ],
   "source": [
    "if \"Kapil\" in salary_details:\n",
    "    print(\"We have the salary details for Kapil\")\n",
    "    \n",
    "else:\n",
    "    salary_details[\"Kapil\"] = 90000\n",
    "    print(\"Kapil's monthly income is %s\"%salary_details[\"Kapil\"])"
   ]
  },
  {
   "cell_type": "code",
   "execution_count": 16,
   "id": "ea0485b0",
   "metadata": {},
   "outputs": [
    {
     "data": {
      "text/plain": [
       "{'James': 50000,\n",
       " 'Rahul': 60000,\n",
       " 'Vineeta': 65000,\n",
       " 'Nitin': 70000,\n",
       " 'Kapil': 90000}"
      ]
     },
     "execution_count": 16,
     "metadata": {},
     "output_type": "execute_result"
    }
   ],
   "source": [
    "salary_details"
   ]
  },
  {
   "cell_type": "code",
   "execution_count": 1,
   "id": "cf68a96b",
   "metadata": {},
   "outputs": [
    {
     "data": {
      "text/plain": [
       "[['Rahul', 'Nakul', 'Aman'], [30, 40, 50], [20000, 50000, 40000]]"
      ]
     },
     "execution_count": 1,
     "metadata": {},
     "output_type": "execute_result"
    }
   ],
   "source": [
    "details = [['Rahul','Nakul','Aman'],\n",
    "          [30,40,50],\n",
    "          [20000,50000,40000]]\n",
    "\n",
    "details"
   ]
  },
  {
   "cell_type": "code",
   "execution_count": 3,
   "id": "2b82a212",
   "metadata": {},
   "outputs": [
    {
     "name": "stdout",
     "output_type": "stream",
     "text": [
      "Nakul has the highest salary and his age is greater than 30\n"
     ]
    }
   ],
   "source": [
    "max_sal = max(details[2])\n",
    "\n",
    "if (details[2][1] == max_sal):\n",
    "    \n",
    "    if (details[1][1] > 30):\n",
    "        print(details[0][1], \"has the highest salary and his age is greater than 30\")\n",
    "        \n",
    "    elif (details[1][1] ==30):\n",
    "        print(details[0][1],\"has the highest salary and he is 30 years old\")\n",
    "        \n",
    "    else:\n",
    "        print(\"Nakul has the highest salary and his age is less than 30\")\n",
    "        \n",
    "else:\n",
    "    print(\"Nakul is not the highest paid employee\")"
   ]
  },
  {
   "cell_type": "code",
   "execution_count": null,
   "id": "37ff1982",
   "metadata": {},
   "outputs": [],
   "source": []
  }
 ],
 "metadata": {
  "kernelspec": {
   "display_name": "Python 3 (ipykernel)",
   "language": "python",
   "name": "python3"
  },
  "language_info": {
   "codemirror_mode": {
    "name": "ipython",
    "version": 3
   },
   "file_extension": ".py",
   "mimetype": "text/x-python",
   "name": "python",
   "nbconvert_exporter": "python",
   "pygments_lexer": "ipython3",
   "version": "3.9.12"
  }
 },
 "nbformat": 4,
 "nbformat_minor": 5
}
