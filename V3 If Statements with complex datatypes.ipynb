{
 "cells": [
  {
   "cell_type": "code",
   "execution_count": 1,
   "id": "f2a872bc",
   "metadata": {},
   "outputs": [
    {
     "data": {
      "text/plain": [
       "('Alexa', 'Siri', 'Bixby', 'GoogleNow')"
      ]
     },
     "execution_count": 1,
     "metadata": {},
     "output_type": "execute_result"
    }
   ],
   "source": [
    "tuple_assistants = ('Alexa','Siri','Bixby','GoogleNow')\n",
    "\n",
    "tuple_assistants"
   ]
  },
  {
   "cell_type": "code",
   "execution_count": 2,
   "id": "3bd5c05d",
   "metadata": {},
   "outputs": [
    {
     "name": "stdout",
     "output_type": "stream",
     "text": [
      "Alexa is a teacher\n"
     ]
    }
   ],
   "source": [
    "if \"Alexa\" in tuple_assistants:\n",
    "    \n",
    "    print(\"Alexa is a teacher\")"
   ]
  },
  {
   "cell_type": "code",
   "execution_count": 3,
   "id": "d54e67ed",
   "metadata": {},
   "outputs": [
    {
     "data": {
      "text/plain": [
       "{'Ayden': 60, 'Gavin': 85, 'Ian': 76, 'Jose': 70, 'Jane': 82}"
      ]
     },
     "execution_count": 3,
     "metadata": {},
     "output_type": "execute_result"
    }
   ],
   "source": [
    "student_score = {\"Ayden\":60, \"Gavin\":85, \"Ian\":76, \"Jose\":70, \"Jane\":82}\n",
    "\n",
    "student_score"
   ]
  },
  {
   "cell_type": "code",
   "execution_count": 4,
   "id": "592e149b",
   "metadata": {},
   "outputs": [
    {
     "name": "stdout",
     "output_type": "stream",
     "text": [
      "Ian is in the student_score dictionary\n"
     ]
    }
   ],
   "source": [
    "if \"Ian\" in student_score:\n",
    "    \n",
    "    print(\"Ian is in the student_score dictionary\")"
   ]
  },
  {
   "cell_type": "code",
   "execution_count": 5,
   "id": "3d973562",
   "metadata": {},
   "outputs": [
    {
     "name": "stdout",
     "output_type": "stream",
     "text": [
      "Jane's score: 82\n"
     ]
    }
   ],
   "source": [
    "if 'Jane' in student_score:\n",
    "    \n",
    "    print(\"Jane's score:\",student_score[\"Jane\"])"
   ]
  },
  {
   "cell_type": "code",
   "execution_count": 6,
   "id": "0a8414f0",
   "metadata": {},
   "outputs": [
    {
     "name": "stdout",
     "output_type": "stream",
     "text": [
      "Ian's score: 76\n"
     ]
    }
   ],
   "source": [
    "if \"Ian\" in student_score:\n",
    "    \n",
    "    print(\"Ian's score:\",student_score[\"Ian\"])"
   ]
  },
  {
   "cell_type": "code",
   "execution_count": 7,
   "id": "900864b8",
   "metadata": {},
   "outputs": [],
   "source": [
    "a = 60\n",
    "b = 35"
   ]
  },
  {
   "cell_type": "code",
   "execution_count": 8,
   "id": "853c910a",
   "metadata": {},
   "outputs": [
    {
     "name": "stdout",
     "output_type": "stream",
     "text": [
      "a is greater than b\n"
     ]
    }
   ],
   "source": [
    "if a > b and b < a:\n",
    "    print(\"a is greater than b\")"
   ]
  },
  {
   "cell_type": "code",
   "execution_count": 9,
   "id": "7e695f56",
   "metadata": {},
   "outputs": [],
   "source": [
    "if a > b and b > a:\n",
    "    print(\"a is greater than b\")"
   ]
  },
  {
   "cell_type": "code",
   "execution_count": 11,
   "id": "e71c1132",
   "metadata": {},
   "outputs": [],
   "source": [
    "x_value = 65 \n",
    "y_value = 25"
   ]
  },
  {
   "cell_type": "code",
   "execution_count": 12,
   "id": "8a7cdfe7",
   "metadata": {},
   "outputs": [
    {
     "data": {
      "text/plain": [
       "90"
      ]
     },
     "execution_count": 12,
     "metadata": {},
     "output_type": "execute_result"
    }
   ],
   "source": [
    "z_value = x_value + y_value\n",
    "\n",
    "z_value"
   ]
  },
  {
   "cell_type": "code",
   "execution_count": 13,
   "id": "0f17eb23",
   "metadata": {},
   "outputs": [
    {
     "name": "stdout",
     "output_type": "stream",
     "text": [
      "Both conditions are true\n"
     ]
    }
   ],
   "source": [
    "if x_value > y_value and y_value < z_value:\n",
    "    \n",
    "    print(\"Both conditions are true\")"
   ]
  },
  {
   "cell_type": "code",
   "execution_count": 14,
   "id": "46721ba7",
   "metadata": {},
   "outputs": [
    {
     "name": "stdout",
     "output_type": "stream",
     "text": [
      "At least one of the above conditions is true\n"
     ]
    }
   ],
   "source": [
    "if a > b or b < a:\n",
    "    print(\"At least one of the above conditions is true\")"
   ]
  },
  {
   "cell_type": "code",
   "execution_count": 17,
   "id": "37fada14",
   "metadata": {},
   "outputs": [],
   "source": [
    "bike_price = 250000"
   ]
  },
  {
   "cell_type": "code",
   "execution_count": 16,
   "id": "5db36339",
   "metadata": {},
   "outputs": [],
   "source": [
    "bike_is_electric = False"
   ]
  },
  {
   "cell_type": "code",
   "execution_count": 18,
   "id": "7a8f6dea",
   "metadata": {},
   "outputs": [
    {
     "name": "stdout",
     "output_type": "stream",
     "text": [
      "At least one of the above conditions is true\n"
     ]
    }
   ],
   "source": [
    "if bike_price > 200000 or bike_is_electric:\n",
    "    print(\"At least one of the above conditions is true\")"
   ]
  },
  {
   "cell_type": "code",
   "execution_count": 19,
   "id": "804b5532",
   "metadata": {},
   "outputs": [],
   "source": [
    "if bike_price > 300000 or bike_is_electric:\n",
    "    print(\"At least one of the above conditions is true\")"
   ]
  },
  {
   "cell_type": "code",
   "execution_count": 20,
   "id": "f05a9f35",
   "metadata": {},
   "outputs": [
    {
     "name": "stdout",
     "output_type": "stream",
     "text": [
      "It's a human-powered bike\n"
     ]
    }
   ],
   "source": [
    "if not bike_is_electric:   #since bike_is_electric is false\n",
    "    print(\"It's a human-powered bike\")"
   ]
  },
  {
   "cell_type": "code",
   "execution_count": 22,
   "id": "a7ce3d2a",
   "metadata": {},
   "outputs": [],
   "source": [
    "x = 45\n",
    "y = 58"
   ]
  },
  {
   "cell_type": "code",
   "execution_count": 23,
   "id": "0634c01b",
   "metadata": {},
   "outputs": [],
   "source": [
    "if not (x < y):\n",
    "    print('x is not less than y')"
   ]
  },
  {
   "cell_type": "code",
   "execution_count": 25,
   "id": "a08066a9",
   "metadata": {},
   "outputs": [
    {
     "name": "stdout",
     "output_type": "stream",
     "text": [
      "x is not greater than y\n"
     ]
    }
   ],
   "source": [
    "if not (x > y):\n",
    "    print('x is not greater than y')"
   ]
  },
  {
   "cell_type": "code",
   "execution_count": null,
   "id": "17b02672",
   "metadata": {},
   "outputs": [],
   "source": []
  }
 ],
 "metadata": {
  "kernelspec": {
   "display_name": "Python 3 (ipykernel)",
   "language": "python",
   "name": "python3"
  },
  "language_info": {
   "codemirror_mode": {
    "name": "ipython",
    "version": 3
   },
   "file_extension": ".py",
   "mimetype": "text/x-python",
   "name": "python",
   "nbconvert_exporter": "python",
   "pygments_lexer": "ipython3",
   "version": "3.9.12"
  }
 },
 "nbformat": 4,
 "nbformat_minor": 5
}
