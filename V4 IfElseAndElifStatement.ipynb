{
 "cells": [
  {
   "cell_type": "code",
   "execution_count": 1,
   "id": "87c3b2f6",
   "metadata": {},
   "outputs": [
    {
     "name": "stdout",
     "output_type": "stream",
     "text": [
      "10 is less than 20\n",
      "else block activated\n"
     ]
    }
   ],
   "source": [
    "if 10 >20:\n",
    "    print(\"10 is greater than 20\")\n",
    "    print(\"if block activated\")\n",
    "else:\n",
    "    print(\"10 is less than 20\")\n",
    "    print(\"else block activated\")"
   ]
  },
  {
   "cell_type": "code",
   "execution_count": 1,
   "id": "28d00356",
   "metadata": {},
   "outputs": [
    {
     "data": {
      "text/plain": [
       "80000"
      ]
     },
     "execution_count": 1,
     "metadata": {},
     "output_type": "execute_result"
    }
   ],
   "source": [
    "bike_price = 80000\n",
    "bike_price"
   ]
  },
  {
   "cell_type": "code",
   "execution_count": 2,
   "id": "eaaa8088",
   "metadata": {},
   "outputs": [
    {
     "name": "stdout",
     "output_type": "stream",
     "text": [
      "It is a cheap bike\n",
      "if block activated\n"
     ]
    }
   ],
   "source": [
    "if bike_price <= 150000:\n",
    "    print('It is a cheap bike')\n",
    "    print('if block activated')\n",
    "else:\n",
    "    print(\"It's an expensive bike\")\n",
    "    print(\"else block activated\")"
   ]
  },
  {
   "cell_type": "code",
   "execution_count": 4,
   "id": "d4e13a77",
   "metadata": {},
   "outputs": [
    {
     "ename": "SyntaxError",
     "evalue": "invalid syntax (2950697938.py, line 6)",
     "output_type": "error",
     "traceback": [
      "\u001b[1;36m  Input \u001b[1;32mIn [4]\u001b[1;36m\u001b[0m\n\u001b[1;33m    else:\u001b[0m\n\u001b[1;37m    ^\u001b[0m\n\u001b[1;31mSyntaxError\u001b[0m\u001b[1;31m:\u001b[0m invalid syntax\n"
     ]
    }
   ],
   "source": [
    "bike_price = 200000\n",
    "\n",
    "if bike_price <= 150000:\n",
    "    print(\"It's a cheap bike\")\n",
    "    \n",
    "    else:\n",
    "        print(\"It's an expenxive bike\")"
   ]
  },
  {
   "cell_type": "code",
   "execution_count": 6,
   "id": "163a7fae",
   "metadata": {},
   "outputs": [
    {
     "name": "stdout",
     "output_type": "stream",
     "text": [
      "It's an expensive bike\n"
     ]
    }
   ],
   "source": [
    "bike_price = 200000\n",
    "\n",
    "if bike_price <= 150000:\n",
    "    print(\"It's a cheap bike\")\n",
    "    \n",
    "else:\n",
    "    print(\"It's an expensive bike\")"
   ]
  },
  {
   "cell_type": "markdown",
   "id": "097dd4af",
   "metadata": {},
   "source": [
    "# Ternary operators (conditional expressions)\n",
    "# evaluate something based on a condition being true or not"
   ]
  },
  {
   "cell_type": "code",
   "execution_count": 7,
   "id": "9e530ae3",
   "metadata": {},
   "outputs": [
    {
     "name": "stdout",
     "output_type": "stream",
     "text": [
      "num before expression:  50\n",
      "num after expression:  30\n"
     ]
    }
   ],
   "source": [
    "num = 50\n",
    "print(\"num before expression: \",num)\n",
    "\n",
    "num = num - 20 if num > 20 else num + 20\n",
    "\n",
    "print(\"num after expression: \",num)"
   ]
  },
  {
   "cell_type": "code",
   "execution_count": 8,
   "id": "64371bf9",
   "metadata": {},
   "outputs": [
    {
     "name": "stdout",
     "output_type": "stream",
     "text": [
      "num before expression:  50\n",
      "num after expression:  30\n"
     ]
    }
   ],
   "source": [
    "num = 50\n",
    "print(\"num before expression: \",num)\n",
    "\n",
    "if num > 20:\n",
    "    num = num - 20 \n",
    "    \n",
    "else:\n",
    "    num = num + 20\n",
    "\n",
    "print(\"num after expression: \",num)"
   ]
  },
  {
   "cell_type": "code",
   "execution_count": 9,
   "id": "4d909bdc",
   "metadata": {},
   "outputs": [
    {
     "name": "stdout",
     "output_type": "stream",
     "text": [
      "number before expression : 100\n",
      "Number after expression :  500\n"
     ]
    }
   ],
   "source": [
    "num = 100\n",
    "print('number before expression :',num)\n",
    "\n",
    "result = num/5 if num < 50 else num * 5\n",
    "\n",
    "print(\"Number after expression : \", result)"
   ]
  },
  {
   "cell_type": "markdown",
   "id": "3c14ebc8",
   "metadata": {},
   "source": [
    "# elif is used to chain if-else conditions\n",
    "# The conditions are evaluated in order"
   ]
  },
  {
   "cell_type": "code",
   "execution_count": 10,
   "id": "c1dfa5ad",
   "metadata": {},
   "outputs": [
    {
     "name": "stdout",
     "output_type": "stream",
     "text": [
      "15 is less than 20\n",
      "elif block activated\n"
     ]
    }
   ],
   "source": [
    "if 15>20:\n",
    "    print(\"15 is greater than 20\")\n",
    "    print(\"If block activated\")\n",
    "    \n",
    "elif 15 < 20:\n",
    "    print(\"15 is less than 20\")\n",
    "    print(\"elif block activated\")\n",
    "    \n",
    "else:\n",
    "    print(\"Both are equal\")\n",
    "    print(\"else block activated\")\n",
    "    "
   ]
  },
  {
   "cell_type": "code",
   "execution_count": 12,
   "id": "674a4e80",
   "metadata": {},
   "outputs": [
    {
     "name": "stdout",
     "output_type": "stream",
     "text": [
      "Both are equal\n",
      "elif block activated\n"
     ]
    }
   ],
   "source": [
    "a = 45\n",
    "b = 45\n",
    "\n",
    "if b > a:\n",
    "    print(\"b is greater than a\")\n",
    "    print(\"if block activated\")\n",
    "    \n",
    "elif b == a:\n",
    "    print(\"Both are equal\")\n",
    "    print(\"elif block activated\")\n",
    "    \n",
    "else:\n",
    "    print(\"b is less than a\")\n",
    "    print(\"else block activated\")"
   ]
  },
  {
   "cell_type": "code",
   "execution_count": null,
   "id": "6296fb80",
   "metadata": {},
   "outputs": [],
   "source": []
  }
 ],
 "metadata": {
  "kernelspec": {
   "display_name": "Python 3 (ipykernel)",
   "language": "python",
   "name": "python3"
  },
  "language_info": {
   "codemirror_mode": {
    "name": "ipython",
    "version": 3
   },
   "file_extension": ".py",
   "mimetype": "text/x-python",
   "name": "python",
   "nbconvert_exporter": "python",
   "pygments_lexer": "ipython3",
   "version": "3.9.12"
  }
 },
 "nbformat": 4,
 "nbformat_minor": 5
}
