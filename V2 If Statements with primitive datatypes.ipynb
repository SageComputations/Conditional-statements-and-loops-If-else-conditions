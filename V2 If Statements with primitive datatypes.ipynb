{
 "cells": [
  {
   "cell_type": "markdown",
   "id": "026f58a6",
   "metadata": {},
   "source": [
    "# If-Else statements help us make decisions\n",
    "# And take actions appropirate to those decisions"
   ]
  },
  {
   "cell_type": "code",
   "execution_count": 7,
   "id": "81a866b8",
   "metadata": {},
   "outputs": [
    {
     "name": "stdout",
     "output_type": "stream",
     "text": [
      "10 is less than 15\n"
     ]
    }
   ],
   "source": [
    "if 10 < 15:                               #Colon signifies the start of if block\n",
    "    \n",
    "    print(\"10 is less than 15\")           #Indentation is must"
   ]
  },
  {
   "cell_type": "code",
   "execution_count": 8,
   "id": "c47713d6",
   "metadata": {},
   "outputs": [
    {
     "name": "stdout",
     "output_type": "stream",
     "text": [
      "46 is greater than 45\n"
     ]
    }
   ],
   "source": [
    "if 46 > 40 + 5:\n",
    "    \n",
    "    print(\"46 is greater than 45\")"
   ]
  },
  {
   "cell_type": "code",
   "execution_count": 9,
   "id": "d1b893e6",
   "metadata": {},
   "outputs": [
    {
     "ename": "IndentationError",
     "evalue": "expected an indented block (296407962.py, line 3)",
     "output_type": "error",
     "traceback": [
      "\u001b[1;36m  Input \u001b[1;32mIn [9]\u001b[1;36m\u001b[0m\n\u001b[1;33m    print(\"46 is greater than 40\")\u001b[0m\n\u001b[1;37m    ^\u001b[0m\n\u001b[1;31mIndentationError\u001b[0m\u001b[1;31m:\u001b[0m expected an indented block\n"
     ]
    }
   ],
   "source": [
    "if 46 > 40:\n",
    "    \n",
    "print(\"46 is greater than 40\")"
   ]
  },
  {
   "cell_type": "code",
   "execution_count": 10,
   "id": "f4f8cffb",
   "metadata": {},
   "outputs": [],
   "source": [
    "x_value = 65\n",
    "y_value = 25"
   ]
  },
  {
   "cell_type": "code",
   "execution_count": 11,
   "id": "c695a815",
   "metadata": {},
   "outputs": [],
   "source": [
    "if x_value < y_value:\n",
    "    \n",
    "    print('Value of x is less than the value of y')"
   ]
  },
  {
   "cell_type": "code",
   "execution_count": 12,
   "id": "31713c13",
   "metadata": {},
   "outputs": [
    {
     "name": "stdout",
     "output_type": "stream",
     "text": [
      "Value of x is greater than the value of y\n"
     ]
    }
   ],
   "source": [
    "if x_value > y_value:\n",
    "    \n",
    "    print('Value of x is greater than the value of y')"
   ]
  },
  {
   "cell_type": "code",
   "execution_count": 13,
   "id": "99b31dae",
   "metadata": {},
   "outputs": [],
   "source": [
    "my_string = \"Hello python world!\""
   ]
  },
  {
   "cell_type": "code",
   "execution_count": 14,
   "id": "a6b6f6ad",
   "metadata": {},
   "outputs": [
    {
     "name": "stdout",
     "output_type": "stream",
     "text": [
      "Yes, python is in my string\n"
     ]
    }
   ],
   "source": [
    "if 'python' in my_string:\n",
    "    \n",
    "    print('Yes, python is in my string')"
   ]
  },
  {
   "cell_type": "code",
   "execution_count": 15,
   "id": "999f4286",
   "metadata": {},
   "outputs": [],
   "source": [
    "if 'pythonworld' in my_string:\n",
    "    \n",
    "    print('Yes, python world is in my string')"
   ]
  },
  {
   "cell_type": "code",
   "execution_count": 16,
   "id": "240dd081",
   "metadata": {},
   "outputs": [
    {
     "name": "stdout",
     "output_type": "stream",
     "text": [
      "Yes, python world is in my string\n"
     ]
    }
   ],
   "source": [
    "if 'python world' in my_string:\n",
    "    \n",
    "    print('Yes, python world is in my string')"
   ]
  },
  {
   "cell_type": "code",
   "execution_count": 17,
   "id": "60b2843a",
   "metadata": {},
   "outputs": [],
   "source": [
    "if 'Python World' in my_string:\n",
    "    \n",
    "    print('Yes, python world is in my string')"
   ]
  },
  {
   "cell_type": "code",
   "execution_count": 18,
   "id": "9143ea74",
   "metadata": {},
   "outputs": [
    {
     "data": {
      "text/plain": [
       "['Alex', 'Mike', 'Jacob', 'James']"
      ]
     },
     "execution_count": 18,
     "metadata": {},
     "output_type": "execute_result"
    }
   ],
   "source": [
    "list_student = [\"Alex\",\"Mike\",\"Jacob\",\"James\"]\n",
    "\n",
    "list_student"
   ]
  },
  {
   "cell_type": "code",
   "execution_count": 20,
   "id": "9c7c579e",
   "metadata": {},
   "outputs": [
    {
     "name": "stdout",
     "output_type": "stream",
     "text": [
      "Jacob is a student\n"
     ]
    }
   ],
   "source": [
    "if 'Jacob' in list_student:\n",
    "    \n",
    "    print('Jacob is a student')"
   ]
  },
  {
   "cell_type": "code",
   "execution_count": null,
   "id": "10981d8d",
   "metadata": {},
   "outputs": [],
   "source": []
  },
  {
   "cell_type": "code",
   "execution_count": null,
   "id": "97d70aa1",
   "metadata": {},
   "outputs": [],
   "source": []
  },
  {
   "cell_type": "code",
   "execution_count": null,
   "id": "c70052e4",
   "metadata": {},
   "outputs": [],
   "source": []
  },
  {
   "cell_type": "code",
   "execution_count": null,
   "id": "ab946c08",
   "metadata": {},
   "outputs": [],
   "source": []
  },
  {
   "cell_type": "code",
   "execution_count": null,
   "id": "4d34ee1f",
   "metadata": {},
   "outputs": [],
   "source": []
  },
  {
   "cell_type": "code",
   "execution_count": null,
   "id": "bcce5067",
   "metadata": {},
   "outputs": [],
   "source": []
  }
 ],
 "metadata": {
  "kernelspec": {
   "display_name": "Python 3 (ipykernel)",
   "language": "python",
   "name": "python3"
  },
  "language_info": {
   "codemirror_mode": {
    "name": "ipython",
    "version": 3
   },
   "file_extension": ".py",
   "mimetype": "text/x-python",
   "name": "python",
   "nbconvert_exporter": "python",
   "pygments_lexer": "ipython3",
   "version": "3.9.12"
  }
 },
 "nbformat": 4,
 "nbformat_minor": 5
}
