{
 "cells": [
  {
   "cell_type": "code",
   "execution_count": 1,
   "id": "3809d754",
   "metadata": {},
   "outputs": [
    {
     "ename": "TypeError",
     "evalue": "unsupported operand type(s) for -: 'str' and 'str'",
     "output_type": "error",
     "traceback": [
      "\u001b[1;31m---------------------------------------------------------------------------\u001b[0m",
      "\u001b[1;31mTypeError\u001b[0m                                 Traceback (most recent call last)",
      "Input \u001b[1;32mIn [1]\u001b[0m, in \u001b[0;36m<cell line: 5>\u001b[1;34m()\u001b[0m\n\u001b[0;32m      1\u001b[0m old_num \u001b[38;5;241m=\u001b[39m \u001b[38;5;124m\"\u001b[39m\u001b[38;5;124m500\u001b[39m\u001b[38;5;124m\"\u001b[39m\n\u001b[0;32m      3\u001b[0m new_num \u001b[38;5;241m=\u001b[39m \u001b[38;5;124m\"\u001b[39m\u001b[38;5;124m10\u001b[39m\u001b[38;5;124m\"\u001b[39m\n\u001b[1;32m----> 5\u001b[0m remaining_num \u001b[38;5;241m=\u001b[39m \u001b[43mold_num\u001b[49m\u001b[43m \u001b[49m\u001b[38;5;241;43m-\u001b[39;49m\u001b[43m \u001b[49m\u001b[43mnew_num\u001b[49m\n",
      "\u001b[1;31mTypeError\u001b[0m: unsupported operand type(s) for -: 'str' and 'str'"
     ]
    }
   ],
   "source": [
    "old_num = \"500\"\n",
    "\n",
    "new_num = \"10\"\n",
    "\n",
    "remaining_num = old_num - new_num"
   ]
  },
  {
   "cell_type": "code",
   "execution_count": 2,
   "id": "5e5ca140",
   "metadata": {},
   "outputs": [
    {
     "data": {
      "text/plain": [
       "str"
      ]
     },
     "execution_count": 2,
     "metadata": {},
     "output_type": "execute_result"
    }
   ],
   "source": [
    "type(old_num)"
   ]
  },
  {
   "cell_type": "code",
   "execution_count": 3,
   "id": "e8d01d3a",
   "metadata": {},
   "outputs": [
    {
     "data": {
      "text/plain": [
       "490"
      ]
     },
     "execution_count": 3,
     "metadata": {},
     "output_type": "execute_result"
    }
   ],
   "source": [
    "old_num = \"500\"\n",
    "\n",
    "new_num = \"10\"\n",
    "\n",
    "remaining_num = int(old_num) - int(new_num)\n",
    "\n",
    "remaining_num"
   ]
  },
  {
   "cell_type": "code",
   "execution_count": 5,
   "id": "a3db1334",
   "metadata": {},
   "outputs": [
    {
     "data": {
      "text/plain": [
       "'80.970.1'"
      ]
     },
     "execution_count": 5,
     "metadata": {},
     "output_type": "execute_result"
    }
   ],
   "source": [
    "old_code = \"80.9\"\n",
    "new_code = \"70.1\"\n",
    "\n",
    "total_code = old_code + new_code\n",
    "\n",
    "total_code"
   ]
  },
  {
   "cell_type": "code",
   "execution_count": 6,
   "id": "1ec7db0c",
   "metadata": {},
   "outputs": [
    {
     "data": {
      "text/plain": [
       "151.0"
      ]
     },
     "execution_count": 6,
     "metadata": {},
     "output_type": "execute_result"
    }
   ],
   "source": [
    "old_code = \"80.9\"\n",
    "new_code = \"70.1\"\n",
    "\n",
    "total_code = float(old_code) + float(new_code)\n",
    "\n",
    "total_code"
   ]
  },
  {
   "cell_type": "code",
   "execution_count": 7,
   "id": "78668c24",
   "metadata": {},
   "outputs": [
    {
     "data": {
      "text/plain": [
       "100.8"
      ]
     },
     "execution_count": 7,
     "metadata": {},
     "output_type": "execute_result"
    }
   ],
   "source": [
    "my_float = \"70.8\"\n",
    "my_int = \"30\"\n",
    "\n",
    "total = float(my_float) + int(my_int)\n",
    "total"
   ]
  },
  {
   "cell_type": "code",
   "execution_count": 47,
   "id": "5c0377a6",
   "metadata": {},
   "outputs": [
    {
     "data": {
      "text/plain": [
       "['p', 'y', 't', 'h', 'o', 'n', ' ', 'w', 'o', 'r', 'l', 'd']"
      ]
     },
     "execution_count": 47,
     "metadata": {},
     "output_type": "execute_result"
    }
   ],
   "source": [
    "value_str = \"python world\"\n",
    "\n",
    "value_list = list(value_str)\n",
    "value_list"
   ]
  },
  {
   "cell_type": "code",
   "execution_count": 48,
   "id": "8e541daf",
   "metadata": {},
   "outputs": [
    {
     "name": "stdout",
     "output_type": "stream",
     "text": [
      "type of value_str is :  <class 'str'>\n",
      "type of value_list is :  <class 'list'>\n"
     ]
    }
   ],
   "source": [
    "print(\"type of value_str is : \", type(value_str))\n",
    "print(\"type of value_list is : \",type(value_list))"
   ]
  },
  {
   "cell_type": "code",
   "execution_count": 11,
   "id": "f9ed0002",
   "metadata": {},
   "outputs": [
    {
     "ename": "TypeError",
     "evalue": "list expected at most 1 argument, got 5",
     "output_type": "error",
     "traceback": [
      "\u001b[1;31m---------------------------------------------------------------------------\u001b[0m",
      "\u001b[1;31mTypeError\u001b[0m                                 Traceback (most recent call last)",
      "Input \u001b[1;32mIn [11]\u001b[0m, in \u001b[0;36m<cell line: 1>\u001b[1;34m()\u001b[0m\n\u001b[1;32m----> 1\u001b[0m \u001b[38;5;28;43mlist\u001b[39;49m\u001b[43m(\u001b[49m\u001b[38;5;241;43m1\u001b[39;49m\u001b[43m,\u001b[49m\u001b[38;5;241;43m2\u001b[39;49m\u001b[43m,\u001b[49m\u001b[38;5;241;43m3\u001b[39;49m\u001b[43m,\u001b[49m\u001b[38;5;241;43m4\u001b[39;49m\u001b[43m,\u001b[49m\u001b[38;5;241;43m5\u001b[39;49m\u001b[43m)\u001b[49m\n",
      "\u001b[1;31mTypeError\u001b[0m: list expected at most 1 argument, got 5"
     ]
    }
   ],
   "source": [
    "list(1,2,3,4,5)"
   ]
  },
  {
   "cell_type": "code",
   "execution_count": 12,
   "id": "e5aa6801",
   "metadata": {},
   "outputs": [
    {
     "data": {
      "text/plain": [
       "[1, 2, 3, 4, 5]"
      ]
     },
     "execution_count": 12,
     "metadata": {},
     "output_type": "execute_result"
    }
   ],
   "source": [
    "list((1,2,3,4,5))"
   ]
  },
  {
   "cell_type": "code",
   "execution_count": 13,
   "id": "79a1eb3b",
   "metadata": {},
   "outputs": [
    {
     "data": {
      "text/plain": [
       "('apple', 'orange', 'mango', 'banana')"
      ]
     },
     "execution_count": 13,
     "metadata": {},
     "output_type": "execute_result"
    }
   ],
   "source": [
    "my_tuple = ('apple','orange','mango','banana')\n",
    "\n",
    "my_tuple"
   ]
  },
  {
   "cell_type": "code",
   "execution_count": 14,
   "id": "2b0f521a",
   "metadata": {},
   "outputs": [
    {
     "data": {
      "text/plain": [
       "tuple"
      ]
     },
     "execution_count": 14,
     "metadata": {},
     "output_type": "execute_result"
    }
   ],
   "source": [
    "type(my_tuple)"
   ]
  },
  {
   "cell_type": "code",
   "execution_count": 15,
   "id": "b48e5d36",
   "metadata": {},
   "outputs": [
    {
     "data": {
      "text/plain": [
       "['apple', 'orange', 'mango', 'banana']"
      ]
     },
     "execution_count": 15,
     "metadata": {},
     "output_type": "execute_result"
    }
   ],
   "source": [
    "my_list = list(my_tuple)\n",
    "\n",
    "my_list"
   ]
  },
  {
   "cell_type": "code",
   "execution_count": 16,
   "id": "aaa43772",
   "metadata": {},
   "outputs": [
    {
     "data": {
      "text/plain": [
       "list"
      ]
     },
     "execution_count": 16,
     "metadata": {},
     "output_type": "execute_result"
    }
   ],
   "source": [
    "type(my_list)"
   ]
  },
  {
   "cell_type": "code",
   "execution_count": 17,
   "id": "91557f11",
   "metadata": {},
   "outputs": [
    {
     "data": {
      "text/plain": [
       "('p', 'y', 't', 'h', 'o', 'n', ' ', 'w', 'o', 'r', 'l', 'd')"
      ]
     },
     "execution_count": 17,
     "metadata": {},
     "output_type": "execute_result"
    }
   ],
   "source": [
    "value_str = \"python world\"\n",
    "\n",
    "value_tup = tuple(value_str)\n",
    "\n",
    "value_tup"
   ]
  },
  {
   "cell_type": "code",
   "execution_count": 19,
   "id": "c73b26bf",
   "metadata": {},
   "outputs": [
    {
     "name": "stdout",
     "output_type": "stream",
     "text": [
      "The type of value_str is: <class 'str'>\n",
      "The type of value_tup is: <class 'tuple'>\n"
     ]
    }
   ],
   "source": [
    "print('The type of value_str is:',type(value_str))\n",
    "print('The type of value_tup is:',type(value_tup))"
   ]
  },
  {
   "cell_type": "code",
   "execution_count": 20,
   "id": "ddccde80",
   "metadata": {},
   "outputs": [
    {
     "ename": "TypeError",
     "evalue": "'int' object is not iterable",
     "output_type": "error",
     "traceback": [
      "\u001b[1;31m---------------------------------------------------------------------------\u001b[0m",
      "\u001b[1;31mTypeError\u001b[0m                                 Traceback (most recent call last)",
      "Input \u001b[1;32mIn [20]\u001b[0m, in \u001b[0;36m<cell line: 1>\u001b[1;34m()\u001b[0m\n\u001b[1;32m----> 1\u001b[0m \u001b[38;5;28;43mtuple\u001b[39;49m\u001b[43m(\u001b[49m\u001b[38;5;241;43m5000\u001b[39;49m\u001b[43m)\u001b[49m\n",
      "\u001b[1;31mTypeError\u001b[0m: 'int' object is not iterable"
     ]
    }
   ],
   "source": [
    "tuple(5000)"
   ]
  },
  {
   "cell_type": "code",
   "execution_count": 21,
   "id": "fd49a9c3",
   "metadata": {},
   "outputs": [
    {
     "name": "stdout",
     "output_type": "stream",
     "text": [
      "['apple', 'orange', 'mango', 'banana']\n"
     ]
    }
   ],
   "source": [
    "my_list = ['apple','orange','mango','banana']\n",
    "\n",
    "print(my_list)"
   ]
  },
  {
   "cell_type": "code",
   "execution_count": 22,
   "id": "0f050d8a",
   "metadata": {},
   "outputs": [
    {
     "data": {
      "text/plain": [
       "('apple', 'orange', 'mango', 'banana')"
      ]
     },
     "execution_count": 22,
     "metadata": {},
     "output_type": "execute_result"
    }
   ],
   "source": [
    "my_tuple = tuple(my_list)\n",
    "\n",
    "my_tuple"
   ]
  },
  {
   "cell_type": "code",
   "execution_count": 23,
   "id": "10d34dbc",
   "metadata": {},
   "outputs": [
    {
     "data": {
      "text/plain": [
       "tuple"
      ]
     },
     "execution_count": 23,
     "metadata": {},
     "output_type": "execute_result"
    }
   ],
   "source": [
    "type(my_tuple)"
   ]
  },
  {
   "cell_type": "code",
   "execution_count": 24,
   "id": "92f35806",
   "metadata": {},
   "outputs": [
    {
     "data": {
      "text/plain": [
       "(['Jack', 25], ['Jill', 29], ['James', 32])"
      ]
     },
     "execution_count": 24,
     "metadata": {},
     "output_type": "execute_result"
    }
   ],
   "source": [
    "age_list = [['Jack',25],['Jill',29],[\"James\",32]]\n",
    "\n",
    "age_tuple = tuple(age_list)\n",
    "\n",
    "age_tuple"
   ]
  },
  {
   "cell_type": "code",
   "execution_count": 26,
   "id": "70da9e5d",
   "metadata": {},
   "outputs": [
    {
     "data": {
      "text/plain": [
       "('Jack', 25)"
      ]
     },
     "execution_count": 26,
     "metadata": {},
     "output_type": "execute_result"
    }
   ],
   "source": [
    "age_tuple = tuple(age_list[0])\n",
    "\n",
    "age_tuple"
   ]
  },
  {
   "cell_type": "code",
   "execution_count": 28,
   "id": "9648d79e",
   "metadata": {},
   "outputs": [
    {
     "name": "stdout",
     "output_type": "stream",
     "text": [
      "The type of age_list is:  <class 'list'>\n",
      "The type of age_tuple is:  <class 'tuple'>\n"
     ]
    }
   ],
   "source": [
    "print('The type of age_list is: ',type(age_list))\n",
    "print('The type of age_tuple is: ',type(age_tuple))"
   ]
  },
  {
   "cell_type": "code",
   "execution_count": 29,
   "id": "afe593f3",
   "metadata": {},
   "outputs": [
    {
     "data": {
      "text/plain": [
       "[('Dog', 1), ('Cat', 2), ('Rat', 3), ('Goat', 4)]"
      ]
     },
     "execution_count": 29,
     "metadata": {},
     "output_type": "execute_result"
    }
   ],
   "source": [
    "pet_list = [('Dog',1),('Cat',2),('Rat',3),('Goat',4)]\n",
    "\n",
    "pet_list"
   ]
  },
  {
   "cell_type": "code",
   "execution_count": 30,
   "id": "a716b16b",
   "metadata": {},
   "outputs": [
    {
     "data": {
      "text/plain": [
       "(('Dog', 1), ('Cat', 2), ('Rat', 3), ('Goat', 4))"
      ]
     },
     "execution_count": 30,
     "metadata": {},
     "output_type": "execute_result"
    }
   ],
   "source": [
    "pet_tuple = tuple(pet_list)\n",
    "\n",
    "pet_tuple"
   ]
  },
  {
   "cell_type": "code",
   "execution_count": 31,
   "id": "921c6009",
   "metadata": {},
   "outputs": [],
   "source": [
    "age_tuple = ('Lisa',20,\n",
    "            'Mave',31,\n",
    "            'Jordan',29,\n",
    "            'Kelly',40)"
   ]
  },
  {
   "cell_type": "code",
   "execution_count": 32,
   "id": "99fd7d69",
   "metadata": {},
   "outputs": [
    {
     "data": {
      "text/plain": [
       "('Lisa', 20, 'Mave', 31, 'Jordan', 29, 'Kelly', 40)"
      ]
     },
     "execution_count": 32,
     "metadata": {},
     "output_type": "execute_result"
    }
   ],
   "source": [
    "age_tuple"
   ]
  },
  {
   "cell_type": "code",
   "execution_count": 33,
   "id": "2c69800e",
   "metadata": {},
   "outputs": [
    {
     "ename": "ValueError",
     "evalue": "dictionary update sequence element #0 has length 4; 2 is required",
     "output_type": "error",
     "traceback": [
      "\u001b[1;31m---------------------------------------------------------------------------\u001b[0m",
      "\u001b[1;31mValueError\u001b[0m                                Traceback (most recent call last)",
      "Input \u001b[1;32mIn [33]\u001b[0m, in \u001b[0;36m<cell line: 1>\u001b[1;34m()\u001b[0m\n\u001b[1;32m----> 1\u001b[0m \u001b[38;5;28;43mdict\u001b[39;49m\u001b[43m(\u001b[49m\u001b[43mage_tuple\u001b[49m\u001b[43m)\u001b[49m\n",
      "\u001b[1;31mValueError\u001b[0m: dictionary update sequence element #0 has length 4; 2 is required"
     ]
    }
   ],
   "source": [
    "dict(age_tuple)"
   ]
  },
  {
   "cell_type": "code",
   "execution_count": 34,
   "id": "1a38c376",
   "metadata": {},
   "outputs": [],
   "source": [
    "age_tuple = (('Lisa',20),\n",
    "            ('Mave',31),\n",
    "            ('Jordan',29),\n",
    "            ('Kelly',40))"
   ]
  },
  {
   "cell_type": "code",
   "execution_count": 35,
   "id": "1fdb932b",
   "metadata": {},
   "outputs": [
    {
     "data": {
      "text/plain": [
       "{'Lisa': 20, 'Mave': 31, 'Jordan': 29, 'Kelly': 40}"
      ]
     },
     "execution_count": 35,
     "metadata": {},
     "output_type": "execute_result"
    }
   ],
   "source": [
    "dict(age_tuple)"
   ]
  },
  {
   "cell_type": "code",
   "execution_count": 39,
   "id": "4b111ff4",
   "metadata": {},
   "outputs": [
    {
     "data": {
      "text/plain": [
       "(('Lisa', 20), ('Mave', 31), ('Jordan', 29), (['Kelly', 'Missy'], 40))"
      ]
     },
     "execution_count": 39,
     "metadata": {},
     "output_type": "execute_result"
    }
   ],
   "source": [
    "age_tuple1 = (('Lisa',20),\n",
    "            ('Mave',31),\n",
    "            ('Jordan',29),\n",
    "            (['Kelly','Missy'],40))\n",
    "\n",
    "age_tuple1"
   ]
  },
  {
   "cell_type": "code",
   "execution_count": 40,
   "id": "f3f162ca",
   "metadata": {},
   "outputs": [
    {
     "ename": "TypeError",
     "evalue": "unhashable type: 'list'",
     "output_type": "error",
     "traceback": [
      "\u001b[1;31m---------------------------------------------------------------------------\u001b[0m",
      "\u001b[1;31mTypeError\u001b[0m                                 Traceback (most recent call last)",
      "Input \u001b[1;32mIn [40]\u001b[0m, in \u001b[0;36m<cell line: 1>\u001b[1;34m()\u001b[0m\n\u001b[1;32m----> 1\u001b[0m \u001b[38;5;28;43mdict\u001b[39;49m\u001b[43m(\u001b[49m\u001b[43mage_tuple1\u001b[49m\u001b[43m)\u001b[49m\n",
      "\u001b[1;31mTypeError\u001b[0m: unhashable type: 'list'"
     ]
    }
   ],
   "source": [
    "dict(age_tuple1)"
   ]
  },
  {
   "cell_type": "code",
   "execution_count": 42,
   "id": "e4c2855d",
   "metadata": {},
   "outputs": [
    {
     "data": {
      "text/plain": [
       "(('Lisa', 20), ('Mave', 31), ('Jordan', 29), ('Kelly', ['Missy', 40]))"
      ]
     },
     "execution_count": 42,
     "metadata": {},
     "output_type": "execute_result"
    }
   ],
   "source": [
    "age_tuple2 = (('Lisa',20),\n",
    "            ('Mave',31),\n",
    "            ('Jordan',29),\n",
    "            ('Kelly',['Missy',40]))\n",
    "\n",
    "age_tuple2"
   ]
  },
  {
   "cell_type": "code",
   "execution_count": 43,
   "id": "6efe3ab7",
   "metadata": {},
   "outputs": [
    {
     "data": {
      "text/plain": [
       "{'Lisa': 20, 'Mave': 31, 'Jordan': 29, 'Kelly': ['Missy', 40]}"
      ]
     },
     "execution_count": 43,
     "metadata": {},
     "output_type": "execute_result"
    }
   ],
   "source": [
    "dict(age_tuple2)"
   ]
  },
  {
   "cell_type": "code",
   "execution_count": 44,
   "id": "85cf81eb",
   "metadata": {},
   "outputs": [
    {
     "data": {
      "text/plain": [
       "[['Lisa', 20], ['Mave', 31], ['Jordan', 29], ['Kelly', 40]]"
      ]
     },
     "execution_count": 44,
     "metadata": {},
     "output_type": "execute_result"
    }
   ],
   "source": [
    "age_list = [['Lisa',20],\n",
    "            ['Mave',31],\n",
    "            ['Jordan',29],\n",
    "            ['Kelly',40]]\n",
    "\n",
    "age_list"
   ]
  },
  {
   "cell_type": "code",
   "execution_count": 45,
   "id": "875bd73e",
   "metadata": {},
   "outputs": [
    {
     "data": {
      "text/plain": [
       "{'Lisa': 20, 'Mave': 31, 'Jordan': 29, 'Kelly': 40}"
      ]
     },
     "execution_count": 45,
     "metadata": {},
     "output_type": "execute_result"
    }
   ],
   "source": [
    "age_dict = dict(age_list)\n",
    "\n",
    "age_dict"
   ]
  },
  {
   "cell_type": "code",
   "execution_count": 46,
   "id": "1edb8658",
   "metadata": {},
   "outputs": [
    {
     "name": "stdout",
     "output_type": "stream",
     "text": [
      "The type of age_list is:  <class 'list'>\n",
      "The type of age_dict is:  <class 'dict'>\n"
     ]
    }
   ],
   "source": [
    "print('The type of age_list is: ',type(age_list))\n",
    "print('The type of age_dict is: ',type(age_dict))"
   ]
  },
  {
   "cell_type": "code",
   "execution_count": null,
   "id": "2e4a5ca2",
   "metadata": {},
   "outputs": [],
   "source": []
  }
 ],
 "metadata": {
  "kernelspec": {
   "display_name": "Python 3 (ipykernel)",
   "language": "python",
   "name": "python3"
  },
  "language_info": {
   "codemirror_mode": {
    "name": "ipython",
    "version": 3
   },
   "file_extension": ".py",
   "mimetype": "text/x-python",
   "name": "python",
   "nbconvert_exporter": "python",
   "pygments_lexer": "ipython3",
   "version": "3.9.12"
  }
 },
 "nbformat": 4,
 "nbformat_minor": 5
}
