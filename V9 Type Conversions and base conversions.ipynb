{
 "cells": [
  {
   "cell_type": "markdown",
   "id": "283ec59e",
   "metadata": {},
   "source": [
    "# Set Conversion"
   ]
  },
  {
   "cell_type": "code",
   "execution_count": 1,
   "id": "aa75c233",
   "metadata": {},
   "outputs": [
    {
     "data": {
      "text/plain": [
       "{'a', 'e', 'l', 'p'}"
      ]
     },
     "execution_count": 1,
     "metadata": {},
     "output_type": "execute_result"
    }
   ],
   "source": [
    "set('apple')"
   ]
  },
  {
   "cell_type": "code",
   "execution_count": 2,
   "id": "5c9230ee",
   "metadata": {},
   "outputs": [
    {
     "data": {
      "text/plain": [
       "('apple', 'orange', 'mango', 'guava', 'grapes', 'grapes')"
      ]
     },
     "execution_count": 2,
     "metadata": {},
     "output_type": "execute_result"
    }
   ],
   "source": [
    "fruit_tuple = ('apple','orange','mango','guava','grapes','grapes')\n",
    "\n",
    "fruit_tuple"
   ]
  },
  {
   "cell_type": "code",
   "execution_count": 4,
   "id": "954ba058",
   "metadata": {},
   "outputs": [
    {
     "data": {
      "text/plain": [
       "{'apple', 'grapes', 'guava', 'mango', 'orange'}"
      ]
     },
     "execution_count": 4,
     "metadata": {},
     "output_type": "execute_result"
    }
   ],
   "source": [
    "fruit_set = set(fruit_tuple)\n",
    "\n",
    "fruit_set"
   ]
  },
  {
   "cell_type": "code",
   "execution_count": 5,
   "id": "c14150c8",
   "metadata": {},
   "outputs": [
    {
     "data": {
      "text/plain": [
       "set"
      ]
     },
     "execution_count": 5,
     "metadata": {},
     "output_type": "execute_result"
    }
   ],
   "source": [
    "type(fruit_set)"
   ]
  },
  {
   "cell_type": "markdown",
   "id": "a3cfa4a5",
   "metadata": {},
   "source": [
    "# Base Conversions\n",
    "\n",
    "### Decimal Number – Base 10 – N10\n",
    "\n",
    "### Binary Number – Base 2 – N2\n",
    "\n",
    "### Octal Number – Base 8 – N8\n",
    "\n",
    "### Hexadecimal Number – Base 16 – N16"
   ]
  },
  {
   "cell_type": "code",
   "execution_count": 6,
   "id": "1f2fcaf1",
   "metadata": {},
   "outputs": [
    {
     "data": {
      "text/plain": [
       "'0x32'"
      ]
     },
     "execution_count": 6,
     "metadata": {},
     "output_type": "execute_result"
    }
   ],
   "source": [
    "hex(50) #hexadecimal representation of a number in string format"
   ]
  },
  {
   "cell_type": "code",
   "execution_count": 7,
   "id": "811ff324",
   "metadata": {},
   "outputs": [
    {
     "data": {
      "text/plain": [
       "'0xa'"
      ]
     },
     "execution_count": 7,
     "metadata": {},
     "output_type": "execute_result"
    }
   ],
   "source": [
    "hex(10)"
   ]
  },
  {
   "cell_type": "code",
   "execution_count": 8,
   "id": "9bb5bbf6",
   "metadata": {},
   "outputs": [
    {
     "data": {
      "text/plain": [
       "'0x28'"
      ]
     },
     "execution_count": 8,
     "metadata": {},
     "output_type": "execute_result"
    }
   ],
   "source": [
    "hex(40)"
   ]
  },
  {
   "cell_type": "code",
   "execution_count": 9,
   "id": "13de9f24",
   "metadata": {},
   "outputs": [
    {
     "data": {
      "text/plain": [
       "'0o50'"
      ]
     },
     "execution_count": 9,
     "metadata": {},
     "output_type": "execute_result"
    }
   ],
   "source": [
    "oct(40) #octal representation of a number in string format"
   ]
  },
  {
   "cell_type": "code",
   "execution_count": 10,
   "id": "01460e57",
   "metadata": {},
   "outputs": [
    {
     "data": {
      "text/plain": [
       "'0o36'"
      ]
     },
     "execution_count": 10,
     "metadata": {},
     "output_type": "execute_result"
    }
   ],
   "source": [
    "oct(30)"
   ]
  },
  {
   "cell_type": "code",
   "execution_count": 11,
   "id": "d7d313fc",
   "metadata": {},
   "outputs": [
    {
     "data": {
      "text/plain": [
       "'0b101'"
      ]
     },
     "execution_count": 11,
     "metadata": {},
     "output_type": "execute_result"
    }
   ],
   "source": [
    "bin(5)"
   ]
  },
  {
   "cell_type": "code",
   "execution_count": 12,
   "id": "e0a85f6d",
   "metadata": {},
   "outputs": [
    {
     "data": {
      "text/plain": [
       "'0b1010'"
      ]
     },
     "execution_count": 12,
     "metadata": {},
     "output_type": "execute_result"
    }
   ],
   "source": [
    "bin(10)"
   ]
  },
  {
   "cell_type": "code",
   "execution_count": 13,
   "id": "d9ce5169",
   "metadata": {},
   "outputs": [
    {
     "data": {
      "text/plain": [
       "10"
      ]
     },
     "execution_count": 13,
     "metadata": {},
     "output_type": "execute_result"
    }
   ],
   "source": [
    "int('0b1010',2)"
   ]
  },
  {
   "cell_type": "code",
   "execution_count": 14,
   "id": "935872a7",
   "metadata": {},
   "outputs": [
    {
     "data": {
      "text/plain": [
       "10"
      ]
     },
     "execution_count": 14,
     "metadata": {},
     "output_type": "execute_result"
    }
   ],
   "source": [
    "int('0b1010',0) #base 0 means to interpret exactly as a code literal"
   ]
  },
  {
   "cell_type": "code",
   "execution_count": 15,
   "id": "2b5f629d",
   "metadata": {},
   "outputs": [
    {
     "data": {
      "text/plain": [
       "258"
      ]
     },
     "execution_count": 15,
     "metadata": {},
     "output_type": "execute_result"
    }
   ],
   "source": [
    "int('0x102',16)"
   ]
  },
  {
   "cell_type": "markdown",
   "id": "a603c8b8",
   "metadata": {},
   "source": [
    "# ord returns the unicode point for the given unicode character\n",
    "\n",
    "### Ordinal data is a kind of qualitative data that groups variables into ordered categories, which have a natural order or rank based on some hierarchal scale, like from high to low. But there is a lack of distinctly defined intervals between the categories \n",
    "### Ordinal data are non-numeric or categorical but may use numerical figures as categorizing labels. \n",
    "### Ordinal data are always ranked in some natural order or hierarchy. So, they are termed ordinal."
   ]
  },
  {
   "cell_type": "code",
   "execution_count": 16,
   "id": "020c633d",
   "metadata": {},
   "outputs": [
    {
     "data": {
      "text/plain": [
       "97"
      ]
     },
     "execution_count": 16,
     "metadata": {},
     "output_type": "execute_result"
    }
   ],
   "source": [
    "ord('a')"
   ]
  },
  {
   "cell_type": "code",
   "execution_count": 17,
   "id": "defac796",
   "metadata": {},
   "outputs": [
    {
     "data": {
      "text/plain": [
       "65"
      ]
     },
     "execution_count": 17,
     "metadata": {},
     "output_type": "execute_result"
    }
   ],
   "source": [
    "ord('A')"
   ]
  },
  {
   "cell_type": "code",
   "execution_count": 18,
   "id": "3f3a5943",
   "metadata": {},
   "outputs": [
    {
     "data": {
      "text/plain": [
       "101"
      ]
     },
     "execution_count": 18,
     "metadata": {},
     "output_type": "execute_result"
    }
   ],
   "source": [
    "ord('e')"
   ]
  },
  {
   "cell_type": "markdown",
   "id": "cd5d2a48",
   "metadata": {},
   "source": [
    "# chr  method returns a string representing a character whose unicode point is an integer"
   ]
  },
  {
   "cell_type": "code",
   "execution_count": 19,
   "id": "f769a323",
   "metadata": {},
   "outputs": [
    {
     "data": {
      "text/plain": [
       "'d'"
      ]
     },
     "execution_count": 19,
     "metadata": {},
     "output_type": "execute_result"
    }
   ],
   "source": [
    "chr(100)"
   ]
  },
  {
   "cell_type": "code",
   "execution_count": 20,
   "id": "a167804a",
   "metadata": {},
   "outputs": [
    {
     "data": {
      "text/plain": [
       "'a'"
      ]
     },
     "execution_count": 20,
     "metadata": {},
     "output_type": "execute_result"
    }
   ],
   "source": [
    "chr(97)"
   ]
  },
  {
   "cell_type": "markdown",
   "id": "85dd2e0e",
   "metadata": {},
   "source": [
    "# Complex method takes two parameters and returns a complex number - first parameter is real and second is imaginary"
   ]
  },
  {
   "cell_type": "code",
   "execution_count": 21,
   "id": "4ef730ad",
   "metadata": {},
   "outputs": [
    {
     "data": {
      "text/plain": [
       "1j"
      ]
     },
     "execution_count": 21,
     "metadata": {},
     "output_type": "execute_result"
    }
   ],
   "source": [
    "complex(1j)"
   ]
  },
  {
   "cell_type": "code",
   "execution_count": 22,
   "id": "3a99e1b3",
   "metadata": {},
   "outputs": [
    {
     "data": {
      "text/plain": [
       "(10+0j)"
      ]
     },
     "execution_count": 22,
     "metadata": {},
     "output_type": "execute_result"
    }
   ],
   "source": [
    "complex(10)"
   ]
  },
  {
   "cell_type": "code",
   "execution_count": 23,
   "id": "88f0ca59",
   "metadata": {},
   "outputs": [
    {
     "data": {
      "text/plain": [
       "(2+3j)"
      ]
     },
     "execution_count": 23,
     "metadata": {},
     "output_type": "execute_result"
    }
   ],
   "source": [
    "complex(2,3)"
   ]
  },
  {
   "cell_type": "code",
   "execution_count": null,
   "id": "bd930c1a",
   "metadata": {},
   "outputs": [],
   "source": []
  }
 ],
 "metadata": {
  "kernelspec": {
   "display_name": "Python 3 (ipykernel)",
   "language": "python",
   "name": "python3"
  },
  "language_info": {
   "codemirror_mode": {
    "name": "ipython",
    "version": 3
   },
   "file_extension": ".py",
   "mimetype": "text/x-python",
   "name": "python",
   "nbconvert_exporter": "python",
   "pygments_lexer": "ipython3",
   "version": "3.9.12"
  }
 },
 "nbformat": 4,
 "nbformat_minor": 5
}
