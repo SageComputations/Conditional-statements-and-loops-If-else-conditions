{
 "cells": [
  {
   "cell_type": "code",
   "execution_count": 1,
   "id": "0416032a",
   "metadata": {},
   "outputs": [],
   "source": [
    "bike_price = 200000"
   ]
  },
  {
   "cell_type": "code",
   "execution_count": 2,
   "id": "a10bc385",
   "metadata": {},
   "outputs": [],
   "source": [
    "if bike_price < 60000:\n",
    "    print(\"It's a cheap bike\")\n",
    "    \n",
    "elif bike_price >= 60000 and bike_price < 100000:\n",
    "    print(\"It's a moderately priced bike\")\n",
    "    \n",
    "elif bike_price >= 100000 and bike_price < 150000:\n",
    "    print(\"It's a somewhat expensive bike\")"
   ]
  },
  {
   "cell_type": "code",
   "execution_count": 3,
   "id": "eb739727",
   "metadata": {},
   "outputs": [
    {
     "name": "stdout",
     "output_type": "stream",
     "text": [
      "It's a somewhat expensive bike\n"
     ]
    }
   ],
   "source": [
    "if bike_price < 60000:\n",
    "    print(\"It's a cheap bike\")\n",
    "    \n",
    "elif bike_price >= 60000 and bike_price < 100000:\n",
    "    print(\"It's a moderately priced bike\")\n",
    "    \n",
    "elif bike_price >= 100000:\n",
    "    print(\"It's a somewhat expensive bike\")\n",
    "    \n",
    "elif bike_price >= 200000:\n",
    "    print(\"It's a very expensive bike\")"
   ]
  },
  {
   "cell_type": "code",
   "execution_count": 4,
   "id": "509c6e60",
   "metadata": {},
   "outputs": [],
   "source": [
    "x = 25\n",
    "y = 35\n",
    "z = 45"
   ]
  },
  {
   "cell_type": "code",
   "execution_count": 7,
   "id": "75d98dfa",
   "metadata": {},
   "outputs": [
    {
     "name": "stdout",
     "output_type": "stream",
     "text": [
      "The first condition is true\n",
      "Both conditions are true\n"
     ]
    }
   ],
   "source": [
    "if x < y:\n",
    "    print(\"The first condition is true\")\n",
    "    \n",
    "    if x < z:\n",
    "        print(\"Both conditions are true\")\n",
    "        \n",
    "    else:\n",
    "        print(\"The first condition is true, the second one is false\")"
   ]
  },
  {
   "cell_type": "code",
   "execution_count": 8,
   "id": "b2358041",
   "metadata": {},
   "outputs": [
    {
     "name": "stdout",
     "output_type": "stream",
     "text": [
      "The first condition is false\n"
     ]
    }
   ],
   "source": [
    "x = 55\n",
    "\n",
    "if x < y:\n",
    "    print(\"The first condition is true\")\n",
    "    \n",
    "    if x < z:\n",
    "        print(\"Both conditions are true\")\n",
    "        \n",
    "    else:\n",
    "        print(\"The first condition is true, the second one is false\")\n",
    "        \n",
    "else:\n",
    "    print(\"The first condition is false\")"
   ]
  },
  {
   "cell_type": "code",
   "execution_count": 2,
   "id": "188184fe",
   "metadata": {},
   "outputs": [
    {
     "name": "stdout",
     "output_type": "stream",
     "text": [
      "Enter your Age: 22\n",
      "You are too old for this camping trip\n"
     ]
    }
   ],
   "source": [
    "age = int(input(\"Enter your Age: \"))\n",
    "\n",
    "if age >= 15:\n",
    "    \n",
    "    if age >= 20:\n",
    "        print(\"You are too old for this camping trip\")\n",
    "        \n",
    "    else:\n",
    "        print(\"You are of the right age for this camping trip\")\n",
    "        \n",
    "else:\n",
    "    print(\"You are too young for this camping trip\")"
   ]
  },
  {
   "cell_type": "code",
   "execution_count": 5,
   "id": "f0798421",
   "metadata": {},
   "outputs": [
    {
     "name": "stdout",
     "output_type": "stream",
     "text": [
      "What is the total amount of online shopping? 1200\n",
      "Delhi or Mumbai or Bangalore? Bangalore\n",
      "Shipping is free\n"
     ]
    }
   ],
   "source": [
    "total = int(input(\"What is the total amount of online shopping? \"))\n",
    "city = input(\"Delhi or Mumbai or Bangalore? \")\n",
    "\n",
    "if city == \"Delhi\":\n",
    "    if total <= 500:\n",
    "        print(\"Shipping cost is 60\")\n",
    "    \n",
    "    elif total <= 1000:\n",
    "        print(\"Shipping cost is 50\")\n",
    "        \n",
    "    else:\n",
    "        print(\"Shipping is free\")\n",
    "        \n",
    "if city == \"Mumbai\":\n",
    "    if total <= 500:\n",
    "        print(\"Shipping cost is 80\")\n",
    "    \n",
    "    elif total <= 1000:\n",
    "        print(\"Shipping cost is 60\")\n",
    "        \n",
    "    else:\n",
    "        print(\"Shipping is free\")\n",
    "        \n",
    "if city == \"Bangalore\":\n",
    "    if total <= 500:\n",
    "        print(\"Shipping cost is 70\")\n",
    "    \n",
    "    elif total <= 1000:\n",
    "        print(\"Shipping cost is 55\")\n",
    "        \n",
    "    else:\n",
    "        print(\"Shipping is free\")       "
   ]
  },
  {
   "cell_type": "code",
   "execution_count": null,
   "id": "e4d8fd1a",
   "metadata": {},
   "outputs": [],
   "source": []
  }
 ],
 "metadata": {
  "kernelspec": {
   "display_name": "Python 3 (ipykernel)",
   "language": "python",
   "name": "python3"
  },
  "language_info": {
   "codemirror_mode": {
    "name": "ipython",
    "version": 3
   },
   "file_extension": ".py",
   "mimetype": "text/x-python",
   "name": "python",
   "nbconvert_exporter": "python",
   "pygments_lexer": "ipython3",
   "version": "3.9.12"
  }
 },
 "nbformat": 4,
 "nbformat_minor": 5
}
